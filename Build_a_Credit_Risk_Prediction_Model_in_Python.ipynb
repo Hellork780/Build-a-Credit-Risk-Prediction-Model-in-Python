{
  "nbformat": 4,
  "nbformat_minor": 0,
  "metadata": {
    "colab": {
      "provenance": [],
      "authorship_tag": "ABX9TyMlcHedHXMuPUXtn00FGP5B",
      "include_colab_link": true
    },
    "kernelspec": {
      "name": "python3",
      "display_name": "Python 3"
    },
    "language_info": {
      "name": "python"
    }
  },
  "cells": [
    {
      "cell_type": "markdown",
      "metadata": {
        "id": "view-in-github",
        "colab_type": "text"
      },
      "source": [
        "<a href=\"https://colab.research.google.com/github/Hellork780/Build-a-Credit-Risk-Prediction-Model-in-Python/blob/main/Build_a_Credit_Risk_Prediction_Model_in_Python.ipynb\" target=\"_parent\"><img src=\"https://colab.research.google.com/assets/colab-badge.svg\" alt=\"Open In Colab\"/></a>"
      ]
    },
    {
      "cell_type": "code",
      "execution_count": 9,
      "metadata": {
        "colab": {
          "base_uri": "https://localhost:8080/"
        },
        "id": "sZ5PKplpQCt4",
        "outputId": "453a7e54-dec8-43e2-dc06-dc8c6151306c"
      },
      "outputs": [
        {
          "output_type": "stream",
          "name": "stdout",
          "text": [
            "Requirement already satisfied: pandas in /usr/local/lib/python3.11/dist-packages (2.2.2)\n",
            "Requirement already satisfied: numpy in /usr/local/lib/python3.11/dist-packages (1.26.4)\n",
            "Requirement already satisfied: scikit-learn in /usr/local/lib/python3.11/dist-packages (1.6.1)\n",
            "Requirement already satisfied: seaborn in /usr/local/lib/python3.11/dist-packages (0.13.2)\n",
            "Requirement already satisfied: matplotlib in /usr/local/lib/python3.11/dist-packages (3.10.0)\n",
            "Requirement already satisfied: python-dateutil>=2.8.2 in /usr/local/lib/python3.11/dist-packages (from pandas) (2.8.2)\n",
            "Requirement already satisfied: pytz>=2020.1 in /usr/local/lib/python3.11/dist-packages (from pandas) (2025.1)\n",
            "Requirement already satisfied: tzdata>=2022.7 in /usr/local/lib/python3.11/dist-packages (from pandas) (2025.1)\n",
            "Requirement already satisfied: scipy>=1.6.0 in /usr/local/lib/python3.11/dist-packages (from scikit-learn) (1.13.1)\n",
            "Requirement already satisfied: joblib>=1.2.0 in /usr/local/lib/python3.11/dist-packages (from scikit-learn) (1.4.2)\n",
            "Requirement already satisfied: threadpoolctl>=3.1.0 in /usr/local/lib/python3.11/dist-packages (from scikit-learn) (3.5.0)\n",
            "Requirement already satisfied: contourpy>=1.0.1 in /usr/local/lib/python3.11/dist-packages (from matplotlib) (1.3.1)\n",
            "Requirement already satisfied: cycler>=0.10 in /usr/local/lib/python3.11/dist-packages (from matplotlib) (0.12.1)\n",
            "Requirement already satisfied: fonttools>=4.22.0 in /usr/local/lib/python3.11/dist-packages (from matplotlib) (4.56.0)\n",
            "Requirement already satisfied: kiwisolver>=1.3.1 in /usr/local/lib/python3.11/dist-packages (from matplotlib) (1.4.8)\n",
            "Requirement already satisfied: packaging>=20.0 in /usr/local/lib/python3.11/dist-packages (from matplotlib) (24.2)\n",
            "Requirement already satisfied: pillow>=8 in /usr/local/lib/python3.11/dist-packages (from matplotlib) (11.1.0)\n",
            "Requirement already satisfied: pyparsing>=2.3.1 in /usr/local/lib/python3.11/dist-packages (from matplotlib) (3.2.1)\n",
            "Requirement already satisfied: six>=1.5 in /usr/local/lib/python3.11/dist-packages (from python-dateutil>=2.8.2->pandas) (1.17.0)\n"
          ]
        }
      ],
      "source": [
        "pip install pandas numpy scikit-learn seaborn matplotlib"
      ]
    },
    {
      "cell_type": "markdown",
      "source": [
        "Step 2: Import Libraries"
      ],
      "metadata": {
        "id": "AYDPpR_GR-Xx"
      }
    },
    {
      "cell_type": "code",
      "source": [
        "import pandas as pd\n",
        "import numpy as np\n",
        "import seaborn as sns\n",
        "import matplotlib.pyplot as plt\n",
        "from sklearn.model_selection import train_test_split\n",
        "from sklearn.ensemble import RandomForestClassifier\n",
        "from sklearn.metrics import accuracy_score, classification_report, confusion_matrix"
      ],
      "metadata": {
        "id": "YoeYEkU-QNfu"
      },
      "execution_count": null,
      "outputs": []
    },
    {
      "cell_type": "markdown",
      "source": [
        "Step 3: Load Sample Credit Risk Data"
      ],
      "metadata": {
        "id": "NyACU0jNSIf1"
      }
    },
    {
      "cell_type": "code",
      "source": [
        "# Sample Credit Risk Data\n",
        "data = pd.DataFrame({\n",
        "    'credit_score': [750, 680, 720, 650, 580, 620, 710, 640, 670, 690],\n",
        "    'income': [60000, 40000, 50000, 35000, 20000, 30000, 55000, 25000, 38000, 42000],\n",
        "    'loan_amount': [200000, 150000, 180000, 120000, 90000, 110000, 175000, 95000, 130000, 145000],\n",
        "    'age': [35, 42, 50, 28, 23, 30, 45, 27, 32, 40],\n",
        "    'default': [0, 1, 0, 1, 1, 1, 0, 1, 0, 0]  # 0 = No Default, 1 = Default\n",
        "})\n",
        "\n",
        "# Show first 5 rows\n",
        "print(data.head())"
      ],
      "metadata": {
        "colab": {
          "base_uri": "https://localhost:8080/"
        },
        "id": "mv4dCaVjQder",
        "outputId": "d313e251-d882-439b-92bc-15427e27322b"
      },
      "execution_count": null,
      "outputs": [
        {
          "output_type": "stream",
          "name": "stdout",
          "text": [
            "   credit_score  income  loan_amount  age  default\n",
            "0           750   60000       200000   35        0\n",
            "1           680   40000       150000   42        1\n",
            "2           720   50000       180000   50        0\n",
            "3           650   35000       120000   28        1\n",
            "4           580   20000        90000   23        1\n"
          ]
        }
      ]
    },
    {
      "cell_type": "markdown",
      "source": [
        "Step 4: Data Preprocessing"
      ],
      "metadata": {
        "id": "hYrnHa-QSMLD"
      }
    },
    {
      "cell_type": "code",
      "source": [
        "# Check for missing values\n",
        "print(data.isnull().sum())\n",
        "\n",
        "# Split Features (X) and Target Variable (y)\n",
        "X = data[['credit_score', 'income', 'loan_amount', 'age']]\n",
        "y = data['default']\n",
        "\n",
        "# Train-Test Split (80% training, 20% testing)\n",
        "X_train, X_test, y_train, y_test = train_test_split(X, y, test_size=0.2, random_state=42)\n",
        "\n",
        "print(\"Training Data Shape:\", X_train.shape)\n",
        "print(\"Testing Data Shape:\", X_test.shape)"
      ],
      "metadata": {
        "colab": {
          "base_uri": "https://localhost:8080/"
        },
        "id": "PieJJqLbQpMa",
        "outputId": "e5a1d34e-0f74-4d25-86dc-a23d9a75ce41"
      },
      "execution_count": null,
      "outputs": [
        {
          "output_type": "stream",
          "name": "stdout",
          "text": [
            "credit_score    0\n",
            "income          0\n",
            "loan_amount     0\n",
            "age             0\n",
            "default         0\n",
            "dtype: int64\n",
            "Training Data Shape: (8, 4)\n",
            "Testing Data Shape: (2, 4)\n"
          ]
        }
      ]
    },
    {
      "cell_type": "markdown",
      "source": [
        "Step 5: Train Credit Risk Model (Random Forest)"
      ],
      "metadata": {
        "id": "mIdk_0IpSQCI"
      }
    },
    {
      "cell_type": "code",
      "source": [
        "# Initialize and Train Model\n",
        "model = RandomForestClassifier(n_estimators=100, random_state=42)\n",
        "model.fit(X_train, y_train)\n",
        "\n",
        "# Predictions on Test Data\n",
        "y_pred = model.predict(X_test)\n",
        "\n",
        "# Model Accuracy\n",
        "accuracy = accuracy_score(y_test, y_pred)\n",
        "print(f\"Model Accuracy: {accuracy:.2f}\")\n",
        "\n",
        "# Classification Report\n",
        "print(\"Classification Report:\\n\", classification_report(y_test, y_pred))\n",
        "\n",
        "# Confusion Matrix\n",
        "sns.heatmap(confusion_matrix(y_test, y_pred), annot=True, fmt='d', cmap='Blues')\n",
        "plt.xlabel(\"Predicted\")\n",
        "plt.ylabel(\"Actual\")\n",
        "plt.title(\"Confusion Matrix\")\n",
        "plt.show()"
      ],
      "metadata": {
        "colab": {
          "base_uri": "https://localhost:8080/",
          "height": 683
        },
        "id": "2xts7ysZQ0pf",
        "outputId": "28e55cb4-e510-4773-ffbf-f1aaef0b117e"
      },
      "execution_count": null,
      "outputs": [
        {
          "output_type": "stream",
          "name": "stdout",
          "text": [
            "Model Accuracy: 0.00\n",
            "Classification Report:\n",
            "               precision    recall  f1-score   support\n",
            "\n",
            "           0       0.00      0.00      0.00       1.0\n",
            "           1       0.00      0.00      0.00       1.0\n",
            "\n",
            "    accuracy                           0.00       2.0\n",
            "   macro avg       0.00      0.00      0.00       2.0\n",
            "weighted avg       0.00      0.00      0.00       2.0\n",
            "\n"
          ]
        },
        {
          "output_type": "display_data",
          "data": {
            "text/plain": [
              "<Figure size 640x480 with 2 Axes>"
            ],
            "image/png": "[encoded data removed]"
          },
          "metadata": {}
        }
      ]
    },
    {
      "cell_type": "markdown",
      "source": [
        "Step 6: Interpret Results\n",
        "\n",
        "1. Accuracy Score → How well the model predicts defaults.\n",
        "\n",
        "If accuracy is above 80%, it's a good model.\n",
        "\n",
        "If accuracy is low, improve with feature engineering & hyperparameter tuning.\n",
        "\n",
        "\n",
        "\n",
        "2. Confusion Matrix → Shows how many defaults were predicted correctly vs incorrectly.\n",
        "\n",
        "True Positive (Defaulted and Predicted as Default)\n",
        "\n",
        "False Positive (Didn’t Default but Predicted as Default)"
      ],
      "metadata": {
        "id": "B9kgfKV9SoZn"
      }
    },
    {
      "cell_type": "markdown",
      "source": [
        "Step 7: Make Predictions on New Data"
      ],
      "metadata": {
        "id": "rBdAbZpPStc-"
      }
    },
    {
      "cell_type": "code",
      "source": [
        "# New Borrower Example\n",
        "new_data = pd.DataFrame({\n",
        "    'credit_score': [700],\n",
        "    'income': [50000],\n",
        "    'loan_amount': [150000],\n",
        "    'age': [40]\n",
        "})\n",
        "\n",
        "# Predict Default Risk\n",
        "prediction = model.predict(new_data)\n",
        "print(\"Loan Default Prediction:\", \"Default\" if prediction[0] == 1 else \"No Default\")"
      ],
      "metadata": {
        "colab": {
          "base_uri": "https://localhost:8080/"
        },
        "id": "SS_p0qg5Q9Cb",
        "outputId": "74816554-cf80-4ec4-df57-912c5313a8e5"
      },
      "execution_count": null,
      "outputs": [
        {
          "output_type": "stream",
          "name": "stdout",
          "text": [
            "Loan Default Prediction: No Default\n"
          ]
        }
      ]
    },
    {
      "cell_type": "markdown",
      "source": [
        "Summary of What We Did:\n",
        "\n",
        "✅ Loaded credit risk data (credit score, income, loan amount, age)\n",
        "\n",
        "✅ Trained a machine learning model (Random Forest)\n",
        "\n",
        "✅ Predicted whether borrowers will default\n",
        "\n",
        "✅ Checked model accuracy and confusion matrix\n",
        "\n",
        "✅ Made predictions for new loan applicants"
      ],
      "metadata": {
        "id": "wI2JGYoiRrQy"
      }
    }
  ]
}